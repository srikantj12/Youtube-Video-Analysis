%python
query_results = spark.sql("WITH filtered AS(SELECT video_id,title, REPLACE(tags, '\"', '')as tags, MAX(views) as total_views FROM gbvideos_csv GROUP BY video_id,tags,title )SELECT * FROM filtered WHERE video_id IS NOT NULL AND title IS NOT NULL AND tags IS NOT NULL AND total_views IS NOT NULL ORDER BY total_views DESC")

tags_map = {}

for row in query_results.take(5000):
  tags = row['tags'].split("|")
  value = row['total_views']
  for key in tags:
    if key in tags_map:
      tags_map[key.lower()] = tags_map[key.lower()]+value
    else:
      tags_map[key.lower()] = value

import operator
sorted_tags_map = sorted(tags_map.items(), key=operator.itemgetter(1), reverse=True)
topTags = [item[0] for item in sorted_tags_map[:1000]]
print(topTags)
